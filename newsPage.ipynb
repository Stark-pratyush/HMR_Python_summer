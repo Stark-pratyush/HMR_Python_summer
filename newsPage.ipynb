{
 "cells": [
  {
   "cell_type": "code",
   "execution_count": 62,
   "metadata": {},
   "outputs": [],
   "source": [
    "import bs4\n",
    "import urllib.request as req"
   ]
  },
  {
   "cell_type": "code",
   "execution_count": 63,
   "metadata": {},
   "outputs": [],
   "source": [
    "htp = req.urlopen('https://timesofindia.indiatimes.com/')"
   ]
  },
  {
   "cell_type": "code",
   "execution_count": 64,
   "metadata": {},
   "outputs": [],
   "source": [
    "page = bs4.BeautifulSoup(htp)"
   ]
  },
  {
   "cell_type": "code",
   "execution_count": 65,
   "metadata": {},
   "outputs": [],
   "source": [
    "navg = page.find('nav',id=\"main-nav\")"
   ]
  },
  {
   "cell_type": "code",
   "execution_count": 66,
   "metadata": {},
   "outputs": [],
   "source": [
    "lis = navg.find_all('li')"
   ]
  },
  {
   "cell_type": "code",
   "execution_count": 67,
   "metadata": {},
   "outputs": [],
   "source": [
    "#cat = []\n",
    "for i in range(len(lis)):\n",
    "    #print(lis[1].find_all('a'))\n",
    "    cat = lis[1].find_all('a')"
   ]
  },
  {
   "cell_type": "code",
   "execution_count": 68,
   "metadata": {},
   "outputs": [
    {
     "name": "stdout",
     "output_type": "stream",
     "text": [
      "Videos\n",
      "Top\n",
      "TOI Originals\n",
      "Vote-19\n",
      "Trending\n",
      "Entertainment\n",
      "Humour\n",
      "City\n",
      "India\n",
      "Times property\n",
      "Amazing but true\n",
      "International\n",
      "Sports\n",
      "Business\n",
      "Health\n",
      "TV\n",
      "Lifestyle\n",
      "Beauty Pageants\n",
      "Filmfare\n",
      "Food\n",
      "Tech\n",
      "Auto\n",
      "Music\n",
      "motion graphics\n",
      "Events\n",
      "Regional\n"
     ]
    }
   ],
   "source": [
    "for j in range(len(cat)):\n",
    "    print(cat[j].text)"
   ]
  },
  {
   "cell_type": "code",
   "execution_count": 69,
   "metadata": {},
   "outputs": [],
   "source": [
    "catd = {\n",
    "    'sports': 'https://timesofindia.indiatimes.com/sports',\n",
    "    'tech': 'https://www.gadgetsnow.com/?utm_source=toiweb&utm_medium=referral&utm_campaign=toiweb_hptopnav',\n",
    "    'entertainment':'https://timesofindia.indiatimes.com/etimes'\n",
    "}"
   ]
  },
  {
   "cell_type": "code",
   "execution_count": 70,
   "metadata": {},
   "outputs": [
    {
     "name": "stdout",
     "output_type": "stream",
     "text": [
      "Enter Category:- entertainment\n"
     ]
    }
   ],
   "source": [
    "us = input(\"Enter Category:- \")"
   ]
  },
  {
   "cell_type": "code",
   "execution_count": 71,
   "metadata": {},
   "outputs": [
    {
     "name": "stdout",
     "output_type": "stream",
     "text": [
      "entertainment\n",
      "https://timesofindia.indiatimes.com/etimes\n"
     ]
    }
   ],
   "source": [
    "for i in range(len(catd)):\n",
    "    if us in catd.keys():\n",
    "        print(us)\n",
    "        a = catd[us]\n",
    "        print(a)\n",
    "        break\n",
    "else:\n",
    "    print('Invalid')"
   ]
  },
  {
   "cell_type": "code",
   "execution_count": 72,
   "metadata": {},
   "outputs": [],
   "source": [
    "htp1 = req.urlopen(a)"
   ]
  },
  {
   "cell_type": "code",
   "execution_count": 73,
   "metadata": {},
   "outputs": [],
   "source": [
    "page1 = bs4.BeautifulSoup(htp1)"
   ]
  },
  {
   "cell_type": "code",
   "execution_count": 82,
   "metadata": {},
   "outputs": [
    {
     "name": "stdout",
     "output_type": "stream",
     "text": [
      "\n",
      "\n",
      "Powered by Delhi Times, Aurangabad Times, Maharashtra Times + more Nashik TimesAurangabad TimesBadlapur TimesYou can change your city from here.\n",
      "\t                We serve personalized stories based on the selected cityOKHello, Edit ProfileMy TimesLogoutSign Infacebooktwitter\n",
      "Go toTOIThe Times of IndiaHomeMoviesMoviesNewsMovie ReviewsMovie ListingsShowtimesAwardsBox OfficePreviewsDid You Know?VideosMalaika Arora gets candid about her relationship with Arjun Kapoor and the age-gap between themPhoto: Karisma Kapoor’s “Big Bang night” with Kunal NayyarPhoto: Alia Bhatt catches up with her girl gang in New York City‘Angrezi Medium’: Kareena Kapoor Khan’s first look from the film will surely leave you impressed!‘Khandaani Shafakhana’: Raveena Tandon and Suniel Shetty to make an appearance in ‘Sheher Ki Ladki’ remake?Watch: Irfan Pathan recreate ‘Ek Pal Ka Jeena’ step with Hrithik Roshan\n",
      "\n",
      "\n",
      "\n",
      "TVTVFeaturedNewsTrade NewsSpecialsVideosFun times on set for Aishwarya PisseDance Karnataka Dance is back on televisionShankar Bidari, Tiger Ashok Kumar to feature on Weekend in RameshPratham to bid adieu to acting?Will Naveen Sajju return to television?Kannada Kogile winner Doddappa Madar gets singing offers in Sandalwood\n",
      "\n",
      "\n",
      "\n",
      "Web SeriesWeb SeriesNetflixMX PlayerThe Aam Aadmi Family 3 - A TVF Original And MX ExclusiveExpress Yourself - An MX Original SeriesHumorously Yours 2 - A TVF Original and MX ExclusiveThinkistan - Idea Jiska, India Uska - An MX Original SeriesBollywood Buzzinga - An MX Original SeriesKiski Sarkar - An MX Original SeriesThe Insiders - A TVF Original and MX ExclusiveF*ck Buddies - An MX Original SeriesLove OK Please - An MX Original SeriesA.I.SHA Season 3\n",
      "\n",
      "\n",
      "\n",
      "Life & StyleLife & StyleRelationshipsHealth & FitnessFashionParentingBeautyBooksRecipesFood NewsTravelHome & GardenEventsSpotlightVideosWeight loss: How beetroot can help you burn those calories away!Questions to ask yourself if your dating experience seems to be more stressful than funHate typical suits? Try one like Kangana Ranaut to look ultra chic!Here's everything you need to know about babies and skin rashesSonam Kapoor's two beauty secrets will make you go 'aww'Is brown rice actually healthier than white rice?\n",
      "\n",
      "\n",
      "\n",
      "PageantsPageantsMiss IndiaMiss DivaWorldUniverseCampus PrincessFresh FaceMr. IndiaInternationalEarthSupranationalMiss Grand Int.IntercontinentalMister SupraOthers03:33Gayatri Bhardwaj latest music video LEVEL - D SOLDIERZ“I want to win the International crown for India”“I have been waiting to come home to celebrate my victory”fbb Colors Femina Miss India 2019: Shivani Jadhav’s HomecomingA grand welcome for Miss India World 2019 Suman Raofbb Colors Femina Miss India 2019: Shreya Shanker Homecoming\n",
      "\n",
      "\n",
      "\n",
      "MusicMusicHindiEnglishTamilTeluguMalayalamKannadaBengaliPunjabiMarathiBhojpuriGujaratiAR Rahman welcomes new changes in the education policyLady Gaga briefly adresses split from Christian CarinoDiplo says he didn't ruin Joe Jonas and Sophie Turner's weddingMiley Cyrus groped and forced to kiss by a fan in BarcelonaJennifer Lopez's first album completes 20 yearsCara Delevingne and Machine Gun Kelly to feature in 'Punk'\n",
      "\n",
      "\n",
      "\n",
      "GamingA new Pokemon game is coming later this yearHarry Potter Wizards Unite vs Pokemon Go: Comparing two of the ‘coolest’ gamesValve launches this ‘Dota’ game for Android and iOS, crossplay and moreTop five action role playing games (RPG) on Android smartphonesDay 1 of Harry Potter: Wizards Unite sees 4 lakh downloads, Rs 2.1 crore spent by playersGodzilla crossover event: Tips to win the PvP mode in PUBG Mobile\n",
      "\n",
      "\n",
      "\n",
      "EventsEventsMumbaiDelhiBangaloreKolkataChennaiAhmedabadAurangabadBhopalBhubaneshwarChandigarhGoaHyderabadIndoreJaipurKanpurKochiKolhapurLucknowNagpurNashikPatnaPuneRaipurRanchiVaranasiGurgaonNoidaOthers01:08Helly Shah and Rajveer Singh spend a day in the city of lakesFoodies party by cooking up a storm of recipesCitizens try their hands on photography at IGRMSWorld Music Day celebrated with Odissi performance and classical ragas.Bengalureans try yoga on wheelsInternational Yoga day celebrated in the city\n",
      "\n",
      "\n",
      "\n",
      "TheatreTheatreHindiKannadaBengaliMarathiGujaratiShree Aur Blue is an ode to friendships and teen crushesYuyutsu is a well-knit socio-cultural satire on patriarchyTheatre review: Pockets Full of BreadsMy Fair Lady set for the stage in city, soonShweta Rohira: There is no place for insecurities in my lifeLucknowites’ visit to a park on stage!\n",
      "\n",
      "\n",
      "\n",
      "VideosVideosMoviesMusicTelevisionWeb Show TrailersLife & StylePageantsEvents00:48Salman Khan offers water to a monkey in plastic bottle and here is what happens next!00:54Malaika Arora reveals how son Arhaan Khan reacted to her relationship with Arjun Kapoor01:10Bollywood diva Kareena Kapoor Khan slays cop look in 'Angrezi Medium'01:19Kriti Sanon wraps-up 'Panipat' shoot, praises Arjun Kapoor01:10After 'Kesari' and 'Total Dhamaal', Shahid Kapoor starrer ‘Kabir Singh’ becomes 3rd highest grosser of 201901:22Kylie Jenner flaunts her adorable 'mini' version\n",
      "\n",
      "\n",
      "\n",
      "PhotosSakshi Chopra hot picturesPlayboy model and actress Amanda Cerny’s Instagram pictures will surely leave you asking for more!Shah Rukh Khan’s reel life daughter Sana Saeed shakes up the internet with her sensuous pictures!Esha Gupta sets hearts racing with her bold and sultry picturesSophie Turner and Joe Jonas marry for second time, get teary-eyed during ceremonyFarhan Akhtar turns protective as fans mob GF Shibani Dandekar on lunch date\n",
      "\n",
      "\n",
      "\n",
      "Times PollSearch×\n",
      "moviesLang.(All)AllHindiEnglishTamilTeluguMalayalamKannadaBengaliPunjabiMarathiBhojpuriGujaratiMOVIE REVIEWMovie Review: Article 15 - 4/5HindiDrama, ThrillerCritic's Rating4.0Avg Users' RatingRadhika Apte on Vicky's relationship statusKJo picks Janhvi Kapoor & Kartik Aaryan for ...Farhan's special post for Yuvraj SinghArticle 15 drained me emotionally: Ayushmann...Raveena slams Zaira for quitting B'woodHere's why Huma Qureshi got trolledAditi Mittal reacts to Tanmay Bhat’s postKareena's first look from ‘Angrezi Medium’Malaika on relationship with Arjun & age gapAlia catches up with her girl gang in NYCRaveena-Suniel in ‘Sheher Ki Ladki’ remake?Vicky-Malavika not more than just friendsTaslima disagrees with Zaira's decisionIrfan Pathan grooves with Hrithik RoshanB-town celebs at Yuvraj's retirement bash‘Chhichhore’: Shraddha shares a BTS videoSee All Hindi News\n",
      "\n",
      "\n",
      "\n",
      "televisionLang.(All)AllHindiEnglishTamilTeluguMalayalamKannadaBengaliMarathiGujaratiAarti Chabria shares pics from her honeymoonVivan Bhathena’s daughter turns 3 weeks oldMJ5’s journey of chasing dreams will inspire...Fortunate I played Jiya in Shararat: ShrutiRoshni Walia opts for a no-makeup lookTKSS: Kapil calls Singh past, Archana presen...Erica-Parth get romantic in the Swiss AlpsMahhi Vij shares an adorable pic with JaySaba-Somi look stunning in their new picsCharu, Rajeev pose with a tiger; get trolledKkusum fame Nausheen rings in her bdaySplitsvilla 11 fame Samyuktha finds loveSee All Hindi News\n",
      "\n",
      "\n",
      "\n",
      "Web SeriesPooja Banerjee’s Flamboyant Floral DressYet to get my due in Bollywood: Brijendra'Singles’ to start from 28 JuneJaved Jaffrey dubs for 'Singles'Life & StyleWeight loss: How beetroot can help you burn those caloriesDoes your dating life makes you feel stresse...Times Business Awards: BhubaneswarKangana's ultra chic suit statementHighlights of the Times Men of The Year Patn...All about babies and skin rashesSonam Kapoor's beauty secretsIs brown rice actually healthier than white ...Micro review: 'Shadow Warrior'Surprising benefits of holding your lover’s ...Being overweight made me an introvert!Celebs who were judged for parenting stylesSee All\n",
      "\n",
      "\n",
      "\n",
      "OthersPopular beauty queen goes missingBeauty queens attend Grazia Awards 2019Winning Moments: Femina Miss India 2019Vicky and Katrina perform at Miss India 2019 FinaleVideosFeaturedHindiEnglishTamilTeluguMalayalamKannadaBengaliMarathiGujaratiBhojpuriLeftRight00:48Salman Khan offers water to a monkey in plastic bottle and h...00:54Malaika Arora reveals how son Arhaan Khan reacted to her rel...01:10Bollywood diva Kareena Kapoor Khan slays cop look in 'Angrez...01:19Kriti Sanon wraps-up 'Panipat' shoot, praises Arjun Kapoor01:10After 'Kesari' and 'Total Dhamaal', Shahid Kapoor starrer ‘K...01:22Kylie Jenner flaunts her adorable 'mini' version01:44Priyanka stuns in sari at Sophie Turner-Joe Jonas’ wedding; ...\n",
      "\n",
      "\n",
      "\n",
      "See All\n",
      "PhotosSee AllSakshi Chopra steams up cyberspaceAmanda goes topless with her BFSana shakes up the internetEsha Gupta sets hearts racingSophie, Joe marry for second timeFarhan rescues as fans mob ShibaniKim at Yuvi’s retirement\n",
      "partyHeavy rain lashes MumbaiStars you didn't know were marriedPride Month celebrationsIsha Ambani's swanky homeJanhvi holidays with BFFsPhotos: Stranded migrantsArjun's ladylove GabriellaSakshi Chopra steams up cyberspaceNusrat gets trolledAnurag’s daughter goes boldSherlyn's sultry photoshootsSophie's beach vacay picturesShama's sultry photoshootsPC & Nick's party picturesSalman with his dog TorroMalaika & Arjun's PDA picG20 Summit: PM Modi meets world leaders in Os...Protests against mob lynchingNew pictures of Malaika & ArjunDelhi Times She UnLTD Entrepreneur Awards 201...G20 Summit: PM Modi meets Shinzo Abe\n",
      "\n",
      "\n",
      "\n",
      "\n",
      "PhotosSee All\n",
      "Sakshi Chopra steams up cyberspaceAmanda goes topless with her BFSana shakes up the internetEsha Gupta sets hearts racingSophie, Joe marry for second timeFarhan rescues as fans mob ShibaniKim at Yuvi’s retirement\n",
      "partyHeavy rain lashes MumbaiStars you didn't know were marriedPride Month celebrationsIsha Ambani's swanky homeJanhvi holidays with BFFsPhotos: Stranded migrantsArjun's ladylove GabriellaSakshi Chopra steams up cyberspaceNusrat gets trolledAnurag’s daughter goes boldSherlyn's sultry photoshootsSophie's beach vacay picturesShama's sultry photoshootsPC & Nick's party picturesSalman with his dog TorroMalaika & Arjun's PDA picG20 Summit: PM Modi meets world leaders in Os...Protests against mob lynchingNew pictures of Malaika & ArjunDelhi Times She UnLTD Entrepreneur Awards 201...G20 Summit: PM Modi meets Shinzo Abe\n",
      "\n",
      "\n",
      "\n",
      "\n",
      "PageantsGayatri Bhardwaj latest music video LEVEL - D SOLDIERZ“I want to win the International crown for India”“I have been waiting to come home to celebrate my victory”fbb Colors Femina Miss India 2019: Shivani Jadhav’s HomecomingSee AllTrending Music\n",
      "\t\t        \n",
      "\t\t        \n",
      "\t\t           function gaanaLoadCallback(){\n",
      "\t\t             console.log(\"gaanaLoadCallback\");\n",
      "\t\t             var widgetid=$(event.target).attr('widgetid')\n",
      "\t\t             var source = 'GAANA_PLAYER' + $(event.target).attr('widgetid');\n",
      "\t\t             $(document).trigger('GAANA_PLAYER_LOADED', [{'source' : source},'GAANA_PLAYER_LOADED' , function(){\n",
      "\t\t                $('[data-plugin=\"gaana-widget\"] iframe').each(function(elem,index){ \n",
      "\t\t                index.contentWindow.postMessage('pauseMe','*'); \n",
      "\t\t                });\n",
      "    \t                \n",
      "    \t            }]);\n",
      "\t\t           }\n",
      "    \t           \n",
      "\t\n",
      "\t\t        $(\".gaana_title\").on('click',function(ev){\n",
      "\t\t            var value = \"web_\"+toiprops._SCN_pg;\n",
      "\t\t            if(toiprops._SubSCN_pg){ value += \"_\"+ toiprops._SubSCN_pg};\n",
      "\t\t            if(toiprops._LastSubSCN_pg){ value += \"_\"+ toiprops._LastSubSCN_pg};\n",
      "\t\t            ga('send','event',value,'gaana_widget');\n",
      "\t            });\n",
      "\t            /*\n",
      "\t            $(document).ready(function(){\n",
      "\t                $('[data-plugin=\"gaana-widget\"] iframe').load(function(){\n",
      "    \t            $(document).trigger('GAANA_PLAYER_LOADED', [{'source' : 'GAANA_PLAYER'},'GAANA_PLAYER_LOADED' , function(){\n",
      "    \t                $('[data-plugin=\"gaana-widget\"] iframe').contentWindow.postMessage(\"pauseMe\",'*');\n",
      "    \t            }]);\n",
      "\t            });\n",
      "\t            });\n",
      "                */\t            \n",
      "\t\t    Movie TrailersAllHindiEnglishTamilTeluguMalayalamKannadaBengaliMarathiGujarati02:23Hansa Ek Sanyog - Official Trailer02:29No Fathers In Kashmir - Official Trailer01:33Chhota Bheem Kung Fu Dhamaka - Official Trail...01:44The Favourite - Official Trailer02:31Mere Pyare Prime Minister - Official Trailer03:30Zindagi Tumse - Official Trailer\n",
      "\n",
      "\n",
      "\n",
      "See AllMovies In Your City\n",
      "\t\t\t Delhi NCRHindiEnglishPunjabiTamilHindiMalayalamTeluguKannadaBhojpuriMarathiGujaratiBengaliUrduAssameseTuluOriyaIn TheatresComing SoonArticle 154.0Takatak2.5Miss U Mister3.0Adham2.5Luca3.0Honey Bunny In Crazy Crazy Chase And Haunted HouseBrochevarevaru Ra3.0Rustum3.0Noblemen3.0Patthar Ke SanamMindo TaseeldarniQueen Of Neermathalam Pootha Kalam1.5Dharmaprabhu2.0Annabelle Comes Home3.5Sindhubaadh3.0The Great Indian Escape2.5Kabir Singh3.5Toy Story 44.5Shadaa4.0And The Oscar Goes To3.5Spider-Man: Far From Home4 Jul, 2019Hume Tumse Pyaar Kitna5 Jul, 2019Malaal5 Jul, 2019One Day: Justice Delivered5 Jul, 2019Jabariya Jodi12 Jul, 2019Super 3012 Jul, 2019Family Of Thakurgunj19 Jul, 2019The Lion King19 Jul, 2019Arjun Patiala26 Jul, 2019Mental Hai Kya26 Jul, 2019Penalty26 Jul, 2019Fast and Furious: Hobbs & Shaw2 Aug, 2019Khandaani Shafakhana2 Aug, 2019Section 3752 Aug, 2019Batla House15 Aug, 2019Mission Mangal15 Aug, 2019Saaho15 Aug, 2019Chhichhore30 Aug, 2019Made In China30 Aug, 2019Commando 36 Sep, 2019See AllEnglish NewsWatch: The first trailer of 'Charlie's Angels'Tom Hiddleston reveals who helped him land role of Loki in 'Thor''Spider-Man: Far From Home' will culminate Marvel Phase Three, says Ke...Matthew Perry's father appeared on 'Friends'See AllCelebs wish fans on the auspicious occasionGoalsPC- Nick's pics are beyond adorable!Box Office  (Gross)Annabelle Comes Home7 crArticle 154.75 crShadaa18.85 crKabir Singh143.75 crGame Over4.50 crMusic videos01:39SP Chauhan: A Struggling Man​ | Song - Nasha ...03:20Sapna Choudhary's latest Hindi song 'Mood Ban...03:52Blackboard Vs Whiteboard | Song - Kuchh Ankah...03:31Woh Jo Tha Ek Messiah Maulana Azad | Song - A...01:52SP Chauhan: A Struggling Man | Song - Ishq Ki...02:52Ek Ladki Ko Dekha Toh Aisa Laga - Title Track...See All\n",
      "\t\t                  MusicAR Rahman welcomes new changes in the education policyLady Gaga briefly adresses split from Christian CarinoDiplo says he didn't ruin Joe Jonas and Sophie Turner's wedd...See AllRelationshipsEmployees who feel respected are more productive: StudyDoes your dating life makes you feel stressed?My husband keeps financial secretsSee AllFashionPriyanka Chopra wore a sari for Joe & Sophie's weddingHate typical suits? Try one like Kangana to look ultra chic!This bride wore Anushka Sharma's wedding lehengaSee AllBeauty3 simple ways to get glowing skin in summersSonam Kapoor's two beauty secrets will make you go 'aww'Are you washing you hair the right way?See AllTrending CelebsPriyanka ChopraActressDeepika PadukoneActressSalman KhanActorsaif ali khanProducer,  Actorajay devgnProducer,  Actor,  DirectorRanveer SinghActorPromoted StoriesRecommended By Columbiamiss kyraOOTD alert: Ananya Panday nails the casual trend effortlessl...Celeb-approved ways to wear black this seasonSonam Kapoor teaches how to mix-n-match with her latest look...See AllHealth & FitnessIt's time to debunk these 5 myths related to eyesightInclude dates in your diet for weight lossIt's official: Women take way MORE stress than menSee AllGamingA new Pokemon game is coming later this yearHarry Potter Wizards Unite vs Pokemon Go: Comparing two of t...Valve launches this ‘Dota’ game for Android and iOS, crosspl...See AllRecipesMango MousseKadhai ChickenNavratan KormaSee AllHome & GardenMaster the monochrome trend!Decor trend alert: Boho ChicVastu tips for kitchenSee AllBooksWeekly Books News (June 24-30)Micro review: 'Fall, or, Dodge in Hell'Sunanda Pushkar's biography to releaseSee AllTheatreShree Aur Blue is an ode to friendships and teen crushesYuyutsu is a well-knit socio-cultural satire on patriarchyTheatre review: Pockets Full of BreadsSee AllSpotlightTraffic courses in campuses help with road safetyTraffic police department collaborates with city campusesDA-IICT's traffic policy teach students valuable studentsSee AllPromoted StoriesRecommended By Columbia\n",
      "More From EtimesEntertainmentArticle 15 BO|Zaira Wasim|Yuvraj's retirement|Taslima Nasreen|Katrina Kaif|Omar Abdullah|Sunny Leone|Mental Hai Kya|Super 30 Song\n",
      "Popular CategoriesEntertainment NewsBollywood NewsTollywood NewsKollywood NewsMollywood NewsMovie ReviewsLatest Hindi MoviesUpcoming Hindi MoviesAutoBikes in IndiaHome RemediesWeight LossBeauty TipsParenting TipsHindi VideosHindi Video SongsEntertainment VideosBollywood TrailersUsed CarBuy CarTrending in EntertainmentBollywood MoviesHollywood MoviesTelugu MoviesTamil MoviesPagalworldFilmyzillaIsaiminiTamil Movies 2019WorldFree4u9xmoviesKhatrimazaTelugu Movies 2019Latest MoviesBest Hindi MoviesBest Tamil MoviesBest Telugu MoviesTamilGunTamilYogiMadras RockersCinemavillaTrending in VideoBidita BagKareena KapoorDeepika PadukoneAlia BhattRaveena TandonAkshay KumarSherlyn ChopraShahid KapoorAthiya ShettyPriyanka and NickSunny LeoneAaliyah KashyapDisha-TigerArjun-MalaikaKunal KapoorVijay's GiftDisha PataniAmeesha PatelArticle 15 ReviewTara SutariaTrending in TVBipasha BasuKaran PatelNivaan SenTV CouplesAalisha PanwarDayanand ShettyBajaj and PrernaNakuul MehtaAnita RajKaran V GroverCharu AsopaYeh Unn DinonDipika KakarTujhse Hai RaabtaTrending in TOI NewsUP NEET Merit ListMHT Cet resultMHT CET ResultPTET Result 2019Clat 2019 Answer keyRPF ResultJEE Advanced Paper AnalysisAP Eamcet Result 2019South IndiaBJP leadingColourful celebrationsAmethi mistakeAmar SinghVijay RupaniTrending in Life & StyleHow to Get PregnantHow to Have SexSex Drive FoodsCold & Cough RemediesFertility CalculatorBMI CalculatorReduce Hair LossDark Circles RemediesBroccoli Health BenefitsReduce Uric AcidGinger Tea BenefitsHealthy Sex PositionsBrain Power FoodsBeauty Tips For FaceMovie ReviewsArticle 15 ReviewKabir Singh ReviewKakshi Amminippilla ReviewKalki ReviewMallesham ReviewGame Over ReviewMen In Black International ReviewBharat ReviewVajra Kavachadhara Govinda ReviewSuttu Pidikka Utharavu ReviewNenjamundu Nermaiyundu Odu Raja ReviewHangover ReviewThe Secret Life Of Pets 2 ReviewVirus ReviewUpcoming Hindi MoviesMalaalHume Tumse Pyaar KitnaOne Day: Justice DeliveredSuper 30Jabariya JodiFamily Of ThakurgunjArjun PatialaJudgemental Hai KyaPenaltySection 375Khandaani ShafakhanaSaahoMission MangalBatla HouseUPCOMING REGIONAL MOVIESGorilla​Kalavani 2Raatchasi​​Oh! Baby​​Pathinettam PadiThozhar Venkatesan​Ninu Veedani Needanu NeneI Smart ShankarGurkhaRakshasudu​​Smile PleaseArdaas KaraanKobbari MattaDear ComradeOther Group Sites - \n",
      "            \t\t    \n",
      "            \t\t    GaanaIdivaET PanacheMensxpFeminaIndiatimesPhoto GalleryBeauty PageantsThe Times of IndiaAbout us|sitemap|feedback|privacy policy| newsletter|Terms of Use and Grievance Redressal Policy|Advertise with us| RSS|ePaperETimes is an Entertainment, TV & Lifestyle industry's promotional website and carries advertorials and native advertising.\n",
      "            \t\t    Copyright © 2019 Bennett, Coleman & Co. Ltd. All rights reserved | The Times of IndiaFollow Us On: \n",
      "            \t        Facebook\n",
      "        \t            Twitter\n"
     ]
    }
   ],
   "source": [
    "if us == 'sports':\n",
    "    news = page1.find('div',class_=\"top-newslist small\")\n",
    "    headl = news.find_all('span',class_=\"w_tle\")\n",
    "    headt = news.find_all('span',class_=\"strlastupd\")\n",
    "    for h in range(len(headt)):\n",
    "        if str(headt[i]).find('strlastupd')==-1:\n",
    "            continue\n",
    "        print(headl[h].text,headt[h].text, sep=', ')\n",
    "\n",
    "elif us == 'tech':\n",
    "    news = page1.find('div',id='c_hp_wdt_list_1')\n",
    "    print(news.text)   \n",
    "\n",
    "elif us == 'entertainment':\n",
    "    news = page1.find_all('div',class_='fix_wrapper')\n",
    "    for h in range(len(news)):\n",
    "        print(news[h].text)\n",
    "else:\n",
    "    print('Bye')"
   ]
  },
  {
   "cell_type": "code",
   "execution_count": null,
   "metadata": {},
   "outputs": [],
   "source": []
  }
 ],
 "metadata": {
  "kernelspec": {
   "display_name": "Python 3",
   "language": "python",
   "name": "python3"
  },
  "language_info": {
   "codemirror_mode": {
    "name": "ipython",
    "version": 3
   },
   "file_extension": ".py",
   "mimetype": "text/x-python",
   "name": "python",
   "nbconvert_exporter": "python",
   "pygments_lexer": "ipython3",
   "version": "3.7.3"
  }
 },
 "nbformat": 4,
 "nbformat_minor": 2
}
